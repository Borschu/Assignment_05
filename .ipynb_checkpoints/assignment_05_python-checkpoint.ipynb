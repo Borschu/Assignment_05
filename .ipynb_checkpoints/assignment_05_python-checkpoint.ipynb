{
 "cells": [
  {
   "cell_type": "markdown",
   "id": "7ee528af",
   "metadata": {},
   "source": [
    "# Assignment V: GitHub and the ticketmaster.com API"
   ]
  },
  {
   "cell_type": "markdown",
   "id": "0ec0f025",
   "metadata": {},
   "source": [
    "## General"
   ]
  },
  {
   "cell_type": "markdown",
   "id": "7f3731e9",
   "metadata": {},
   "source": [
    "GitHub repository: https://github.com/Borschu/Assignment_05"
   ]
  },
  {
   "cell_type": "markdown",
   "id": "1e89d4e8",
   "metadata": {},
   "source": [
    "Import packages:"
   ]
  },
  {
   "cell_type": "code",
   "execution_count": 3,
   "id": "d9404365",
   "metadata": {},
   "outputs": [],
   "source": [
    "import numpy as np\n",
    "import pandas as pd\n",
    "import requests\n",
    "import time"
   ]
  },
  {
   "cell_type": "markdown",
   "id": "30757231",
   "metadata": {},
   "source": [
    "## Setting up a new GitHub repository"
   ]
  },
  {
   "cell_type": "markdown",
   "id": "3e80894a",
   "metadata": {},
   "source": [
    "see link above"
   ]
  },
  {
   "cell_type": "markdown",
   "id": "21c1a091",
   "metadata": {},
   "source": [
    "## Getting to know the API"
   ]
  },
  {
   "cell_type": "markdown",
   "id": "da71ec89",
   "metadata": {},
   "source": [
    "### (8)"
   ]
  },
  {
   "cell_type": "markdown",
   "id": "f25eb2a1",
   "metadata": {},
   "source": [
    "Rate limits:\n",
    "- 5000 API calls per day\n",
    "- 5 requests per second\n",
    "- you can only retrieve the 1000 th item (size * page < 1000)\n"
   ]
  },
  {
   "cell_type": "markdown",
   "id": "54e19d6d",
   "metadata": {},
   "source": [
    "### (9)"
   ]
  },
  {
   "cell_type": "code",
   "execution_count": 4,
   "id": "59eef51c",
   "metadata": {},
   "outputs": [],
   "source": [
    "# create connection to API key\n",
    "with open (r\"C:\\Users\\schur\\OneDrive\\Dokumente\\Studium\\Data Science Master Tübingen\\1. Semester\\Data Science Project Management\\Assignment\\key_assignment_5_python.py\") as script:\n",
    "    exec(script.readline())"
   ]
  }
 ],
 "metadata": {
  "kernelspec": {
   "display_name": "Python 3 (ipykernel)",
   "language": "python",
   "name": "python3"
  },
  "language_info": {
   "codemirror_mode": {
    "name": "ipython",
    "version": 3
   },
   "file_extension": ".py",
   "mimetype": "text/x-python",
   "name": "python",
   "nbconvert_exporter": "python",
   "pygments_lexer": "ipython3",
   "version": "3.9.13"
  }
 },
 "nbformat": 4,
 "nbformat_minor": 5
}
