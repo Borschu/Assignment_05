{
 "cells": [
  {
   "cell_type": "markdown",
   "id": "0686f0b5",
   "metadata": {},
   "source": [
    "# Assignment V: GitHub and the ticketmaster.com API"
   ]
  },
  {
   "cell_type": "markdown",
   "id": "7cd1ba35",
   "metadata": {},
   "source": [
    "## General"
   ]
  },
  {
   "cell_type": "markdown",
   "id": "08d66778",
   "metadata": {},
   "source": [
    "GitHub repository: https://github.com/Borschu/Assignment_05"
   ]
  },
  {
   "cell_type": "markdown",
   "id": "31bba628",
   "metadata": {},
   "source": [
    "Import packages:"
   ]
  },
  {
   "cell_type": "code",
   "execution_count": 18,
   "id": "cbb34ddc",
   "metadata": {},
   "outputs": [],
   "source": [
    "import numpy as np\n",
    "import pandas as pd\n",
    "import requests\n",
    "import time"
   ]
  },
  {
   "cell_type": "markdown",
   "id": "b745ec83",
   "metadata": {},
   "source": [
    "## Setting up a new GitHub repository"
   ]
  },
  {
   "cell_type": "markdown",
   "id": "028cbaf6",
   "metadata": {},
   "source": [
    "see link above"
   ]
  },
  {
   "cell_type": "markdown",
   "id": "b0c8ff16",
   "metadata": {},
   "source": [
    "## Getting to know the API"
   ]
  },
  {
   "cell_type": "markdown",
   "id": "fa773af4",
   "metadata": {},
   "source": [
    "### (5)"
   ]
  },
  {
   "cell_type": "markdown",
   "id": "dfadbc31",
   "metadata": {},
   "source": [
    "Rate limits:\n",
    "- 5000 API calls per day\n",
    "- 5 requests per second\n",
    "- you can only retrieve the 1000 th item (size * page < 1000)\n"
   ]
  },
  {
   "cell_type": "markdown",
   "id": "ba9383fa",
   "metadata": {},
   "source": [
    "### (6)"
   ]
  },
  {
   "cell_type": "code",
   "execution_count": 22,
   "id": "b2373e9c",
   "metadata": {},
   "outputs": [],
   "source": [
    "# create connection to API key\n",
    "#with open(r\"C:\\Users\\schur\\OneDrive\\Dokumente\\Studium\\Data Science Master Tübingen\\1. Semester\\Data Science Project Management\\Assignment\\key_assignment_5_python.py\") as script:\n",
    "#    exec(script.readline())\n",
    "\n",
    "with open(\"C:/Users/schur/OneDrive/Dokumente/Studium/Data Science Master Tübingen/1. Semester/Data Science Project Management/Assignment/key_assignment_5_python.py\") as script:\n",
    "  exec(script.readline())\n"
   ]
  },
  {
   "cell_type": "markdown",
   "id": "3a7ff605",
   "metadata": {},
   "source": [
    "## Interacting with the API - the basics"
   ]
  },
  {
   "cell_type": "markdown",
   "id": "9fa8e802",
   "metadata": {},
   "source": [
    "### (7)"
   ]
  },
  {
   "cell_type": "code",
   "execution_count": 21,
   "id": "d6383c1c",
   "metadata": {},
   "outputs": [
    {
     "name": "stdout",
     "output_type": "stream",
     "text": [
      "{'_embedded': {'venues': [{'name': 'Gruenspan', 'type': 'venue', 'id': 'KovZpZAneakA', 'test': False, 'url': 'http://www.ticketmaster.de/venue/287155', 'locale': 'en-de', 'images': [{'ratio': '16_9', 'url': 'https://s1.ticketm.net/dbimages/2057v.', 'width': 205, 'height': 115, 'fallback': False}], 'postalCode': '22767', 'timezone': 'Europe/Berlin', 'city': {'name': 'Hamburg'}, 'country': {'name': 'Germany', 'countryCode': 'DE'}, 'address': {'line1': 'Grosse Freiheit 58'}, 'location': {'longitude': '9.958075', 'latitude': '53.551885'}, 'markets': [{'name': 'Germany', 'id': '210'}], 'dmas': [{'id': 610}], 'boxOfficeInfo': {'phoneNumberDetail': 'Gruenspan Große Freiheit 58 22767 Hamburg Tel: 040-313616 mail: info@gruenspan.de web: www.gruenspan.de'}, 'upcomingEvents': {'_total': 2, 'mfx-de': 2, '_filtered': 0}, 'ada': {'adaPhones': '+49.(0)1805 - 969 0000 (14 Ct./Min.)', 'adaCustomCopy': 'Sollten Sie besondere Sitzplatzwünsche haben, prüfen Sie bitte die Informationsseite des Veranstaltungsortes. Für weitergehende Informationen steht Ihnen unsere Hotline unter +49.(0)1805 - 969 0000 (14 Ct./Min.) zur Verfügung.', 'adaHours': 'Montag bis Freitag, in der Zeit von 9.00-19.00 Uhr sowie sonnabends von 10.00-18.00 Uhr zur Verfügung.'}, '_links': {'self': {'href': '/discovery/v2/venues/KovZpZAneakA?locale=en-de'}}}, {'name': 'Huxleys Neue Welt', 'type': 'venue', 'id': 'KovZpZAtnIJA', 'test': False, 'url': 'http://www.ticketmaster.de/venue/286842', 'locale': 'en-de', 'images': [{'ratio': '16_9', 'url': 'https://s1.ticketm.net/dbimages/2146v.jpg', 'width': 205, 'height': 115, 'fallback': False}], 'postalCode': '10967', 'timezone': 'Europe/Berlin', 'city': {'name': 'Berlin'}, 'country': {'name': 'Germany', 'countryCode': 'DE'}, 'address': {'line1': 'Hasenheide 107 – 113'}, 'location': {'longitude': '13.42138', 'latitude': '52.486391'}, 'markets': [{'name': 'Germany', 'id': '210'}], 'dmas': [{'id': 610}], 'boxOfficeInfo': {'phoneNumberDetail': 'Huxleys Neue Welt Hasenheide 107-113 10967 Berlin Neukölln Tel 030 621 10 28'}, 'upcomingEvents': {'_total': 10, 'mfx-de': 10, '_filtered': 0}, 'ada': {'adaPhones': '+49.(0)1805 - 969 0000 (14 Ct./Min.)', 'adaCustomCopy': 'Sollten Sie besondere Sitzplatzwünsche haben, prüfen Sie bitte die Informationsseite des Veranstaltungsortes. Für weitergehende Informationen steht Ihnen unsere Hotline unter +49.(0)1805 - 969 0000 (14 Ct./Min.) zur Verfügung.', 'adaHours': 'Montag bis Freitag, in der Zeit von 9.00-19.00 Uhr sowie sonnabends von 10.00-18.00 Uhr zur Verfügung.'}, '_links': {'self': {'href': '/discovery/v2/venues/KovZpZAtnIJA?locale=en-de'}}}, {'name': 'Virtual Event', 'type': 'venue', 'id': 'Z698xZC2ZaFZh', 'test': False, 'url': 'https://www.ticketmaster.de/venue/virtuelles-event-weltweit-tickets/zzzvirtuel/706', 'locale': 'en-us', 'timezone': 'Europe/Berlin', 'city': {'name': 'Worldwide'}, 'country': {'name': 'Germany', 'countryCode': 'DE'}, 'location': {'longitude': '10.0', 'latitude': '50.0'}, 'upcomingEvents': {'_total': 6, 'mfx-de': 6, '_filtered': 0}, '_links': {'self': {'href': '/discovery/v2/venues/Z698xZC2ZaFZh?locale=en-us'}}}, {'name': 'Ev. St. Jacobi Kirche', 'type': 'venue', 'id': 'KovZ9177aS7', 'test': False, 'url': 'http://www.ticketmaster.de/venue/290061', 'locale': 'en-de', 'postalCode': '06526', 'timezone': 'Europe/Berlin', 'city': {'name': 'Sangerhausen'}, 'country': {'name': 'Germany', 'countryCode': 'DE'}, 'address': {'line1': 'Marktplatz'}, 'markets': [{'name': 'Germany', 'id': '210'}], 'dmas': [{'id': 610}], 'upcomingEvents': {'_total': 0, '_filtered': 0}, 'ada': {'adaPhones': '+49.(0)1805 - 969 0000 (14 Ct./Min.)', 'adaCustomCopy': 'For special seating needs, please check the venue information page for details. Should you require further information please call the Hotline on +49.(0)1805 - 969 0000 (14 Ct./Min.)', 'adaHours': 'Monday to Friday, 9:00-19.00; Saturday, 10.00-14.00'}, '_links': {'self': {'href': '/discovery/v2/venues/KovZ9177aS7?locale=en-de'}}}, {'name': 'Evangelische Kirche', 'type': 'venue', 'id': 'KovZ9177aSf', 'test': False, 'url': 'http://www.ticketmaster.de/venue/290066', 'locale': 'en-de', 'postalCode': '48308', 'timezone': 'Europe/Berlin', 'city': {'name': 'Senden'}, 'country': {'name': 'Germany', 'countryCode': 'DE'}, 'address': {'line1': 'Steverstrasse 5'}, 'markets': [{'name': 'Germany', 'id': '210'}], 'dmas': [{'id': 610}], 'upcomingEvents': {'_total': 0, '_filtered': 0}, 'ada': {'adaPhones': '+49.(0)1805 - 969 0000 (14 Ct./Min.)', 'adaCustomCopy': 'For special seating needs, please check the venue information page for details. Should you require further information please call the Hotline on +49.(0)1805 - 969 0000 (14 Ct./Min.)', 'adaHours': 'Monday to Friday, 9:00-19.00; Saturday, 10.00-14.00'}, '_links': {'self': {'href': '/discovery/v2/venues/KovZ9177aSf?locale=en-de'}}}, {'name': 'HDI Arena', 'type': 'venue', 'id': 'KovZ917A5f0', 'test': False, 'url': 'http://www.ticketmaster.de/venue/461692', 'locale': 'en-de', 'timezone': 'Europe/Berlin', 'city': {'name': 'Hannover'}, 'country': {'name': 'Germany', 'countryCode': 'DE'}, 'address': {'line1': 'Robert-Enke-Straße 1', 'line2': '30169 Hannover, Germany'}, 'location': {'longitude': '9.73371', 'latitude': '52.361993'}, 'markets': [{'name': 'All of United Kingdom', 'id': '201'}, {'name': 'Ireland', 'id': '208'}], 'dmas': [{'id': 601}, {'id': 608}], 'upcomingEvents': {'_total': 0, '_filtered': 0}, '_links': {'self': {'href': '/discovery/v2/venues/KovZ917A5f0?locale=en-de'}}}, {'name': 'Arsenal', 'type': 'venue', 'id': 'KovZpZAl111A', 'test': False, 'url': 'http://www.ticketmaster.de/venue/290646', 'locale': 'en-de', 'postalCode': '10785', 'timezone': 'Europe/Berlin', 'city': {'name': 'Berlin'}, 'country': {'name': 'Germany', 'countryCode': 'DE'}, 'address': {'line1': 'Potsdamer Strasse 2'}, 'markets': [{'name': 'Germany', 'id': '210'}], 'dmas': [{'id': 610}], 'upcomingEvents': {'_total': 0, '_filtered': 0}, 'ada': {'adaPhones': '+49.(0)1805 - 969 0000 (14 Ct./Min.)', 'adaCustomCopy': 'For special seating needs, please check the venue information page for details. Should you require further information please call the Hotline on +49.(0)1805 - 969 0000 (14 Ct./Min.)', 'adaHours': 'Monday to Friday, 9:00-19.00; Saturday, 10.00-14.00'}, '_links': {'self': {'href': '/discovery/v2/venues/KovZpZAl111A?locale=en-de'}}}, {'name': 'Freilichtbühne Heppenheim', 'type': 'venue', 'id': 'KovZpZAl116A', 'test': False, 'url': 'http://www.ticketmaster.de/venue/290639', 'locale': 'en-de', 'postalCode': '64646', 'timezone': 'Europe/Berlin', 'city': {'name': 'Heppenheim'}, 'country': {'name': 'Germany', 'countryCode': 'DE'}, 'address': {'line1': 'Oberhalb der Stadt'}, 'markets': [{'name': 'Germany', 'id': '210'}], 'dmas': [{'id': 610}], 'upcomingEvents': {'_total': 0, '_filtered': 0}, 'ada': {'adaPhones': '+49.(0)1805 - 969 0000 (14 Ct./Min.)', 'adaCustomCopy': 'For special seating needs, please check the venue information page for details. Should you require further information please call the Hotline on +49.(0)1805 - 969 0000 (14 Ct./Min.)', 'adaHours': 'Monday to Friday, 9:00-19.00; Saturday, 10.00-14.00'}, '_links': {'self': {'href': '/discovery/v2/venues/KovZpZAl116A?locale=en-de'}}}, {'name': 'Schlosswallhalle', 'type': 'venue', 'id': 'KovZpZAl117A', 'test': False, 'url': 'http://www.ticketmaster.de/venue/290630', 'locale': 'en-de', 'postalCode': '49074', 'timezone': 'Europe/Berlin', 'city': {'name': 'Osnabrück'}, 'country': {'name': 'Germany', 'countryCode': 'DE'}, 'address': {'line1': 'Schlosswall 10'}, 'markets': [{'name': 'Germany', 'id': '210'}], 'dmas': [{'id': 610}], 'upcomingEvents': {'_total': 0, '_filtered': 0}, 'ada': {'adaPhones': '+49.(0)1805 - 969 0000 (14 Ct./Min.)', 'adaCustomCopy': 'For special seating needs, please check the venue information page for details. Should you require further information please call the Hotline on +49.(0)1805 - 969 0000 (14 Ct./Min.)', 'adaHours': 'Monday to Friday, 9:00-19.00; Saturday, 10.00-14.00'}, '_links': {'self': {'href': '/discovery/v2/venues/KovZpZAl117A?locale=en-de'}}}, {'name': 'Metropol Theater', 'type': 'venue', 'id': 'KovZpZAl11AA', 'test': False, 'url': 'http://www.ticketmaster.de/venue/290631', 'locale': 'en-de', 'postalCode': '49377', 'timezone': 'Europe/Berlin', 'city': {'name': 'Vechta'}, 'country': {'name': 'Germany', 'countryCode': 'DE'}, 'address': {'line1': 'Kolpingstrasse 27'}, 'markets': [{'name': 'Germany', 'id': '210'}], 'dmas': [{'id': 610}], 'upcomingEvents': {'_total': 0, '_filtered': 0}, 'ada': {'adaPhones': '+49.(0)1805 - 969 0000 (14 Ct./Min.)', 'adaCustomCopy': 'For special seating needs, please check the venue information page for details. Should you require further information please call the Hotline on +49.(0)1805 - 969 0000 (14 Ct./Min.)', 'adaHours': 'Monday to Friday, 9:00-19.00; Saturday, 10.00-14.00'}, '_links': {'self': {'href': '/discovery/v2/venues/KovZpZAl11AA?locale=en-de'}}}, {'name': 'RÖDERMARK - Kulturhalle', 'type': 'venue', 'id': 'KovZpZAl11EA', 'test': False, 'url': 'http://www.ticketmaster.de/venue/290649', 'locale': 'en-de', 'postalCode': '63322', 'timezone': 'Europe/Berlin', 'city': {'name': 'Rödermark'}, 'country': {'name': 'Germany', 'countryCode': 'DE'}, 'address': {'line1': 'Dieburger Strasse 27'}, 'markets': [{'name': 'Germany', 'id': '210'}], 'dmas': [{'id': 610}], 'upcomingEvents': {'_total': 0, '_filtered': 0}, 'ada': {'adaPhones': '+49.(0)1805 - 969 0000 (14 Ct./Min.)', 'adaCustomCopy': 'For special seating needs, please check the venue information page for details. Should you require further information please call the Hotline on +49.(0)1805 - 969 0000 (14 Ct./Min.)', 'adaHours': 'Monday to Friday, 9:00-19.00; Saturday, 10.00-14.00'}, '_links': {'self': {'href': '/discovery/v2/venues/KovZpZAl11EA?locale=en-de'}}}, {'name': '3922', 'type': 'venue', 'id': 'KovZpZAl11FA', 'test': False, 'url': 'http://www.ticketmaster.de/venue/290642', 'locale': 'en-de', 'postalCode': '96479', 'timezone': 'Europe/Berlin', 'city': {'name': 'Tambach'}, 'country': {'name': 'Germany', 'countryCode': 'DE'}, 'address': {'line1': 'Schlossinnenhof | Schlossallee 1'}, 'markets': [{'name': 'Germany', 'id': '210'}], 'dmas': [{'id': 610}], 'upcomingEvents': {'_total': 0, '_filtered': 0}, 'ada': {'adaPhones': '+49.(0)1805 - 969 0000 (14 Ct./Min.)', 'adaCustomCopy': 'For special seating needs, please check the venue information page for details. Should you require further information please call the Hotline on +49.(0)1805 - 969 0000 (14 Ct./Min.)', 'adaHours': 'Monday to Friday, 9:00-19.00; Saturday, 10.00-14.00'}, '_links': {'self': {'href': '/discovery/v2/venues/KovZpZAl11FA?locale=en-de'}}}, {'name': 'Nibelungenhalle', 'type': 'venue', 'id': 'KovZpZAl11IA', 'test': False, 'url': 'http://www.ticketmaster.de/venue/290653', 'locale': 'en-de', 'postalCode': '74731', 'timezone': 'Europe/Berlin', 'city': {'name': 'Walldürn'}, 'country': {'name': 'Germany', 'countryCode': 'DE'}, 'address': {'line1': 'Theodor Heuss Ring'}, 'markets': [{'name': 'Germany', 'id': '210'}], 'dmas': [{'id': 610}], 'upcomingEvents': {'_total': 0, '_filtered': 0}, 'ada': {'adaPhones': '+49.(0)1805 - 969 0000 (14 Ct./Min.)', 'adaCustomCopy': 'For special seating needs, please check the venue information page for details. Should you require further information please call the Hotline on +49.(0)1805 - 969 0000 (14 Ct./Min.)', 'adaHours': 'Monday to Friday, 9:00-19.00; Saturday, 10.00-14.00'}, '_links': {'self': {'href': '/discovery/v2/venues/KovZpZAl11IA?locale=en-de'}}}, {'name': 'St. Johannis Kirche', 'type': 'venue', 'id': 'KovZpZAl11JA', 'test': False, 'url': 'http://www.ticketmaster.de/venue/290650', 'locale': 'en-de', 'postalCode': '97070', 'timezone': 'Europe/Berlin', 'city': {'name': 'Würzburg'}, 'country': {'name': 'Germany', 'countryCode': 'DE'}, 'address': {'line1': 'Hofstallstrasse 5'}, 'markets': [{'name': 'Germany', 'id': '210'}], 'dmas': [{'id': 610}], 'upcomingEvents': {'_total': 0, '_filtered': 0}, 'ada': {'adaPhones': '+49.(0)1805 - 969 0000 (14 Ct./Min.)', 'adaCustomCopy': 'For special seating needs, please check the venue information page for details. Should you require further information please call the Hotline on +49.(0)1805 - 969 0000 (14 Ct./Min.)', 'adaHours': 'Monday to Friday, 9:00-19.00; Saturday, 10.00-14.00'}, '_links': {'self': {'href': '/discovery/v2/venues/KovZpZAl11JA?locale=en-de'}}}, {'name': 'filmkunst 66', 'type': 'venue', 'id': 'KovZpZAl11aA', 'test': False, 'url': 'http://www.ticketmaster.de/venue/290643', 'locale': 'en-de', 'postalCode': '10623', 'timezone': 'Europe/Berlin', 'city': {'name': 'Berlin'}, 'country': {'name': 'Germany', 'countryCode': 'DE'}, 'address': {'line1': 'Bleibtreustrasse 12'}, 'markets': [{'name': 'Germany', 'id': '210'}], 'dmas': [{'id': 610}], 'upcomingEvents': {'_total': 0, '_filtered': 0}, 'ada': {'adaPhones': '+49.(0)1805 - 969 0000 (14 Ct./Min.)', 'adaCustomCopy': 'For special seating needs, please check the venue information page for details. Should you require further information please call the Hotline on +49.(0)1805 - 969 0000 (14 Ct./Min.)', 'adaHours': 'Monday to Friday, 9:00-19.00; Saturday, 10.00-14.00'}, '_links': {'self': {'href': '/discovery/v2/venues/KovZpZAl11aA?locale=en-de'}}}, {'name': 'Congress Centrum (Europasaal)', 'type': 'venue', 'id': 'KovZpZAl11dA', 'test': False, 'url': 'http://www.ticketmaster.de/venue/290622', 'locale': 'en-de', 'postalCode': '71032', 'timezone': 'Europe/Berlin', 'city': {'name': 'Böblingen'}, 'country': {'name': 'Germany', 'countryCode': 'DE'}, 'address': {'line1': 'Ida Ehre Platz'}, 'markets': [{'name': 'Germany', 'id': '210'}], 'dmas': [{'id': 610}], 'upcomingEvents': {'_total': 0, '_filtered': 0}, 'ada': {'adaPhones': '+49.(0)1805 - 969 0000 (14 Ct./Min.)', 'adaCustomCopy': 'For special seating needs, please check the venue information page for details. Should you require further information please call the Hotline on +49.(0)1805 - 969 0000 (14 Ct./Min.)', 'adaHours': 'Monday to Friday, 9:00-19.00; Saturday, 10.00-14.00'}, '_links': {'self': {'href': '/discovery/v2/venues/KovZpZAl11dA?locale=en-de'}}}, {'name': 'Sauerland Theater', 'type': 'venue', 'id': 'KovZpZAl11eA', 'test': False, 'url': 'http://www.ticketmaster.de/venue/290621', 'locale': 'en-de', 'postalCode': '59821', 'timezone': 'Europe/Berlin', 'city': {'name': 'Arnsberg'}, 'country': {'name': 'Germany', 'countryCode': 'DE'}, 'address': {'line1': 'Feauxweg 9'}, 'markets': [{'name': 'Germany', 'id': '210'}], 'dmas': [{'id': 610}], 'upcomingEvents': {'_total': 0, '_filtered': 0}, 'ada': {'adaPhones': '+49.(0)1805 - 969 0000 (14 Ct./Min.)', 'adaCustomCopy': 'For special seating needs, please check the venue information page for details. Should you require further information please call the Hotline on +49.(0)1805 - 969 0000 (14 Ct./Min.)', 'adaHours': 'Monday to Friday, 9:00-19.00; Saturday, 10.00-14.00'}, '_links': {'self': {'href': '/discovery/v2/venues/KovZpZAl11eA?locale=en-de'}}}, {'name': 'Hebbel am Ufer 1', 'type': 'venue', 'id': 'KovZpZAl11kA', 'test': False, 'url': 'http://www.ticketmaster.de/venue/290635', 'locale': 'en-de', 'postalCode': '10963', 'timezone': 'Europe/Berlin', 'city': {'name': 'Berlin'}, 'country': {'name': 'Germany', 'countryCode': 'DE'}, 'address': {'line1': 'Stresemannstrasse 29'}, 'markets': [{'name': 'Germany', 'id': '210'}], 'dmas': [{'id': 610}], 'upcomingEvents': {'_total': 0, '_filtered': 0}, 'ada': {'adaPhones': '+49.(0)1805 - 969 0000 (14 Ct./Min.)', 'adaCustomCopy': 'For special seating needs, please check the venue information page for details. Should you require further information please call the Hotline on +49.(0)1805 - 969 0000 (14 Ct./Min.)', 'adaHours': 'Monday to Friday, 9:00-19.00; Saturday, 10.00-14.00'}, '_links': {'self': {'href': '/discovery/v2/venues/KovZpZAl11kA?locale=en-de'}}}, {'name': 'Roots Club', 'type': 'venue', 'id': 'KovZpZAl11lA', 'test': False, 'url': 'http://www.ticketmaster.de/venue/290659', 'locale': 'en-de', 'postalCode': '41061', 'timezone': 'Europe/Berlin', 'city': {'name': 'Mönchengladbach'}, 'country': {'name': 'Germany', 'countryCode': 'DE'}, 'address': {'line1': 'Aachener Strasse 21-23'}, 'markets': [{'name': 'Germany', 'id': '210'}], 'dmas': [{'id': 610}], 'upcomingEvents': {'_total': 0, '_filtered': 0}, 'ada': {'adaPhones': '+49.(0)1805 - 969 0000 (14 Ct./Min.)', 'adaCustomCopy': 'For special seating needs, please check the venue information page for details. Should you require further information please call the Hotline on +49.(0)1805 - 969 0000 (14 Ct./Min.)', 'adaHours': 'Monday to Friday, 9:00-19.00; Saturday, 10.00-14.00'}, '_links': {'self': {'href': '/discovery/v2/venues/KovZpZAl11lA?locale=en-de'}}}, {'name': 'Alte Feuerwache ', 'type': 'venue', 'id': 'KovZpZAl11nA', 'test': False, 'url': 'http://www.ticketmaster.de/venue/290658', 'locale': 'en-de', 'postalCode': '12439', 'timezone': 'Europe/Berlin', 'city': {'name': 'Berlin'}, 'country': {'name': 'Germany', 'countryCode': 'DE'}, 'address': {'line1': 'Michael-Brückner-Strasse 9'}, 'markets': [{'name': 'Germany', 'id': '210'}], 'dmas': [{'id': 610}], 'upcomingEvents': {'_total': 0, '_filtered': 0}, 'ada': {'adaPhones': '+49.(0)1805 - 969 0000 (14 Ct./Min.)', 'adaCustomCopy': 'For special seating needs, please check the venue information page for details. Should you require further information please call the Hotline on +49.(0)1805 - 969 0000 (14 Ct./Min.)', 'adaHours': 'Monday to Friday, 9:00-19.00; Saturday, 10.00-14.00'}, '_links': {'self': {'href': '/discovery/v2/venues/KovZpZAl11nA?locale=en-de'}}}]}, '_links': {'first': {'href': '/discovery/v2/venues?countryCode=DE&page=0&size=20'}, 'self': {'href': '/discovery/v2/venues?countryCode=DE'}, 'next': {'href': '/discovery/v2/venues?countryCode=DE&page=1&size=20'}, 'last': {'href': '/discovery/v2/venues?countryCode=DE&page=237&size=20'}}, 'page': {'size': 20, 'totalElements': 4745, 'totalPages': 238, 'number': 0}}\n"
     ]
    }
   ],
   "source": [
    "# create content for venue = Germany\n",
    "con_ven_ger = requests.get(\"https://app.ticketmaster.com/discovery/v2/venues\",\n",
    "                          params = {\"apikey\": ticketmaster_key, \"countryCode\": \"DE\"}).json()\n",
    "\n",
    "# print content\n",
    "print(con_ven_ger)"
   ]
  },
  {
   "cell_type": "markdown",
   "id": "a9298362",
   "metadata": {},
   "source": [
    "### (8)"
   ]
  },
  {
   "cell_type": "code",
   "execution_count": 71,
   "id": "a2e42a08",
   "metadata": {},
   "outputs": [
    {
     "name": "stdout",
     "output_type": "stream",
     "text": [
      "                             name             city postalCode  \\\n",
      "0                       Gruenspan          Hamburg      22767   \n",
      "1               Huxleys Neue Welt           Berlin      10967   \n",
      "2                   Virtual Event        Worldwide        NaN   \n",
      "3           Ev. St. Jacobi Kirche     Sangerhausen      06526   \n",
      "4             Evangelische Kirche           Senden      48308   \n",
      "5                       HDI Arena         Hannover        NaN   \n",
      "6                         Arsenal           Berlin      10785   \n",
      "7       Freilichtbühne Heppenheim       Heppenheim      64646   \n",
      "8                Schlosswallhalle        Osnabrück      49074   \n",
      "9                Metropol Theater           Vechta      49377   \n",
      "10        RÖDERMARK - Kulturhalle        Rödermark      63322   \n",
      "11                           3922          Tambach      96479   \n",
      "12                Nibelungenhalle         Walldürn      74731   \n",
      "13            St. Johannis Kirche         Würzburg      97070   \n",
      "14                   filmkunst 66           Berlin      10623   \n",
      "15  Congress Centrum (Europasaal)        Böblingen      71032   \n",
      "16              Sauerland Theater         Arnsberg      59821   \n",
      "17               Hebbel am Ufer 1           Berlin      10963   \n",
      "18                     Roots Club  Mönchengladbach      41061   \n",
      "19               Alte Feuerwache            Berlin      12439   \n",
      "\n",
      "                             address  \\\n",
      "0                 Grosse Freiheit 58   \n",
      "1               Hasenheide 107 – 113   \n",
      "2                                NaN   \n",
      "3                         Marktplatz   \n",
      "4                    Steverstrasse 5   \n",
      "5               Robert-Enke-Straße 1   \n",
      "6                Potsdamer Strasse 2   \n",
      "7                 Oberhalb der Stadt   \n",
      "8                     Schlosswall 10   \n",
      "9                  Kolpingstrasse 27   \n",
      "10              Dieburger Strasse 27   \n",
      "11  Schlossinnenhof | Schlossallee 1   \n",
      "12                Theodor Heuss Ring   \n",
      "13                 Hofstallstrasse 5   \n",
      "14               Bleibtreustrasse 12   \n",
      "15                    Ida Ehre Platz   \n",
      "16                        Feauxweg 9   \n",
      "17              Stresemannstrasse 29   \n",
      "18            Aachener Strasse 21-23   \n",
      "19        Michael-Brückner-Strasse 9   \n",
      "\n",
      "                                                  url longitude   latitude  \n",
      "0             http://www.ticketmaster.de/venue/287155  9.958075  53.551885  \n",
      "1             http://www.ticketmaster.de/venue/286842  13.42138  52.486391  \n",
      "2   https://www.ticketmaster.de/venue/virtuelles-e...      10.0       50.0  \n",
      "3             http://www.ticketmaster.de/venue/290061       NaN        NaN  \n",
      "4             http://www.ticketmaster.de/venue/290066       NaN        NaN  \n",
      "5             http://www.ticketmaster.de/venue/461692   9.73371  52.361993  \n",
      "6             http://www.ticketmaster.de/venue/290646       NaN        NaN  \n",
      "7             http://www.ticketmaster.de/venue/290639       NaN        NaN  \n",
      "8             http://www.ticketmaster.de/venue/290630       NaN        NaN  \n",
      "9             http://www.ticketmaster.de/venue/290631       NaN        NaN  \n",
      "10            http://www.ticketmaster.de/venue/290649       NaN        NaN  \n",
      "11            http://www.ticketmaster.de/venue/290642       NaN        NaN  \n",
      "12            http://www.ticketmaster.de/venue/290653       NaN        NaN  \n",
      "13            http://www.ticketmaster.de/venue/290650       NaN        NaN  \n",
      "14            http://www.ticketmaster.de/venue/290643       NaN        NaN  \n",
      "15            http://www.ticketmaster.de/venue/290622       NaN        NaN  \n",
      "16            http://www.ticketmaster.de/venue/290621       NaN        NaN  \n",
      "17            http://www.ticketmaster.de/venue/290635       NaN        NaN  \n",
      "18            http://www.ticketmaster.de/venue/290659       NaN        NaN  \n",
      "19            http://www.ticketmaster.de/venue/290658       NaN        NaN  \n"
     ]
    }
   ],
   "source": [
    "# define size of page\n",
    "size = con_ven_ger['page']['size']\n",
    "\n",
    "# create empty vectors for all characteristics\n",
    "name = [None]*size\n",
    "city = [None]*size\n",
    "postalCode = [None]*size\n",
    "address = [None]*size\n",
    "url = [None]*size\n",
    "longitude = [None]*size\n",
    "latitude = [None]*size\n",
    "\n",
    "# for loop over all list entries for every characteristic of the venue\n",
    "for i in range(size):\n",
    "    # If a list element doesnt exist a key error occurs and the loop stops.\n",
    "    # To avoid this the try-except-structure is built\n",
    "    # if a KeyError occurs the value is codes as NaN\n",
    "    try:\n",
    "        name[i] = con_ven_ger['_embedded']['venues'][i][\"name\"]\n",
    "    except KeyError:\n",
    "        name[i] = np.nan\n",
    "    try:\n",
    "        city[i] = con_ven_ger['_embedded']['venues'][i][\"city\"]['name']\n",
    "    except KeyError:\n",
    "        city[i] = np.nan\n",
    "    try:\n",
    "        postalCode[i] = con_ven_ger['_embedded']['venues'][i][\"postalCode\"]\n",
    "    except KeyError:\n",
    "        postalCode[i] = np.nan\n",
    "    try:\n",
    "        address[i] = con_ven_ger['_embedded']['venues'][i][\"address\"]['line1']\n",
    "    except KeyError:\n",
    "        address[i] = np.nan\n",
    "    try:\n",
    "        url[i] = con_ven_ger['_embedded']['venues'][i][\"url\"]\n",
    "    except KeyError:\n",
    "        url[i] = np.nan\n",
    "    try:\n",
    "        longitude[i] = con_ven_ger['_embedded']['venues'][i][\"location\"][\"longitude\"]\n",
    "    except KeyError:\n",
    "        longitude[i] = np.nan\n",
    "    try:\n",
    "        latitude[i] = con_ven_ger['_embedded']['venues'][i][\"location\"][\"latitude\"]\n",
    "    except KeyError:\n",
    "        latitude[i] = np.nan\n",
    "    \n",
    "# create dataframe based on the previous created lists\n",
    "df_venue_ger = pd.DataFrame({\"name\": name,\n",
    "                           \"city\": city,\n",
    "                           \"postalCode\": postalCode,\n",
    "                           \"address\": address,\n",
    "                           \"url\": url,\n",
    "                           \"longitude\": longitude,\n",
    "                           \"latitude\": latitude})\n",
    "\n",
    "# print dataframe\n",
    "print(df_venue_ger)\n"
   ]
  },
  {
   "cell_type": "code",
   "execution_count": 42,
   "id": "e30fc470",
   "metadata": {},
   "outputs": [
    {
     "data": {
      "text/plain": [
       "range(0, 20)"
      ]
     },
     "execution_count": 42,
     "metadata": {},
     "output_type": "execute_result"
    }
   ],
   "source": [
    "range(20)"
   ]
  }
 ],
 "metadata": {
  "kernelspec": {
   "display_name": "Python 3 (ipykernel)",
   "language": "python",
   "name": "python3"
  },
  "language_info": {
   "codemirror_mode": {
    "name": "ipython",
    "version": 3
   },
   "file_extension": ".py",
   "mimetype": "text/x-python",
   "name": "python",
   "nbconvert_exporter": "python",
   "pygments_lexer": "ipython3",
   "version": "3.9.13"
  }
 },
 "nbformat": 4,
 "nbformat_minor": 5
}
